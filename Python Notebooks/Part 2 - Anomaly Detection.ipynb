{
 "cells": [
  {
   "cell_type": "code",
   "execution_count": 1,
   "metadata": {},
   "outputs": [],
   "source": [
    "import pandas as pd\n",
    "import numpy as np\n",
    "import matplotlib.pyplot as plt\n",
    "import seaborn as sns\n",
    "from keras.layers import Input, Dropout, Dense, LSTM, TimeDistributed, RepeatVector\n",
    "from keras.models import Model, model_from_json\n",
    "from keras import regularizers, Sequential"
   ]
  },
  {
   "cell_type": "code",
   "execution_count": 2,
   "metadata": {},
   "outputs": [],
   "source": [
    "train_df = pd.read_csv(\"../Datasets/train.csv\")\n",
    "test_df = pd.read_csv(\"../Datasets/test.csv\")"
   ]
  },
  {
   "cell_type": "code",
   "execution_count": 3,
   "metadata": {},
   "outputs": [],
   "source": [
    "train_df.drop(\"Unnamed: 0\", axis=1,inplace=True)\n",
    "test_df.drop(\"Unnamed: 0\", axis=1, inplace=True)"
   ]
  },
  {
   "cell_type": "code",
   "execution_count": 4,
   "metadata": {},
   "outputs": [],
   "source": [
    "train_index = train_df[\"Date and time\"]\n",
    "test_index = test_df[\"Date and time\"]"
   ]
  },
  {
   "cell_type": "code",
   "execution_count": 5,
   "metadata": {},
   "outputs": [
    {
     "data": {
      "text/html": [
       "<div>\n",
       "<style scoped>\n",
       "    .dataframe tbody tr th:only-of-type {\n",
       "        vertical-align: middle;\n",
       "    }\n",
       "\n",
       "    .dataframe tbody tr th {\n",
       "        vertical-align: top;\n",
       "    }\n",
       "\n",
       "    .dataframe thead th {\n",
       "        text-align: right;\n",
       "    }\n",
       "</style>\n",
       "<table border=\"1\" class=\"dataframe\">\n",
       "  <thead>\n",
       "    <tr style=\"text-align: right;\">\n",
       "      <th></th>\n",
       "      <th>Date and time</th>\n",
       "      <th>Gear oil temperature (°C)</th>\n",
       "      <th>Front bearing temperature (°C)</th>\n",
       "      <th>Rear bearing temperature (°C)</th>\n",
       "      <th>Gear oil inlet temperature (°C)</th>\n",
       "      <th>Generator bearing front temperature (°C)</th>\n",
       "      <th>Generator bearing rear temperature (°C)</th>\n",
       "      <th>Rotor bearing temp (°C)</th>\n",
       "      <th>Stator temperature 1 (°C)</th>\n",
       "    </tr>\n",
       "  </thead>\n",
       "  <tbody>\n",
       "    <tr>\n",
       "      <th>0</th>\n",
       "      <td>01-01-2020 00:00</td>\n",
       "      <td>56.972500</td>\n",
       "      <td>65.880001</td>\n",
       "      <td>65.382499</td>\n",
       "      <td>55.497500</td>\n",
       "      <td>38.277500</td>\n",
       "      <td>36.752500</td>\n",
       "      <td>27.182501</td>\n",
       "      <td>58.377500</td>\n",
       "    </tr>\n",
       "    <tr>\n",
       "      <th>1</th>\n",
       "      <td>01-01-2020 00:10</td>\n",
       "      <td>56.695001</td>\n",
       "      <td>64.602500</td>\n",
       "      <td>64.712498</td>\n",
       "      <td>55.230000</td>\n",
       "      <td>39.145000</td>\n",
       "      <td>37.037499</td>\n",
       "      <td>27.190001</td>\n",
       "      <td>58.952500</td>\n",
       "    </tr>\n",
       "    <tr>\n",
       "      <th>2</th>\n",
       "      <td>01-01-2020 00:20</td>\n",
       "      <td>56.640000</td>\n",
       "      <td>64.740000</td>\n",
       "      <td>64.917499</td>\n",
       "      <td>55.107500</td>\n",
       "      <td>39.897500</td>\n",
       "      <td>37.347500</td>\n",
       "      <td>27.197501</td>\n",
       "      <td>59.660000</td>\n",
       "    </tr>\n",
       "    <tr>\n",
       "      <th>3</th>\n",
       "      <td>01-01-2020 00:30</td>\n",
       "      <td>56.432500</td>\n",
       "      <td>63.137500</td>\n",
       "      <td>63.990000</td>\n",
       "      <td>55.135000</td>\n",
       "      <td>40.625000</td>\n",
       "      <td>37.752500</td>\n",
       "      <td>27.140001</td>\n",
       "      <td>60.550000</td>\n",
       "    </tr>\n",
       "    <tr>\n",
       "      <th>4</th>\n",
       "      <td>01-01-2020 00:40</td>\n",
       "      <td>56.169998</td>\n",
       "      <td>62.037500</td>\n",
       "      <td>63.525000</td>\n",
       "      <td>54.915000</td>\n",
       "      <td>41.252500</td>\n",
       "      <td>38.362500</td>\n",
       "      <td>27.100000</td>\n",
       "      <td>61.694999</td>\n",
       "    </tr>\n",
       "    <tr>\n",
       "      <th>...</th>\n",
       "      <td>...</td>\n",
       "      <td>...</td>\n",
       "      <td>...</td>\n",
       "      <td>...</td>\n",
       "      <td>...</td>\n",
       "      <td>...</td>\n",
       "      <td>...</td>\n",
       "      <td>...</td>\n",
       "      <td>...</td>\n",
       "    </tr>\n",
       "    <tr>\n",
       "      <th>311912</th>\n",
       "      <td>31-12-2020 23:10</td>\n",
       "      <td>50.830000</td>\n",
       "      <td>57.390000</td>\n",
       "      <td>59.570001</td>\n",
       "      <td>50.375000</td>\n",
       "      <td>36.480000</td>\n",
       "      <td>36.380000</td>\n",
       "      <td>23.212501</td>\n",
       "      <td>57.970000</td>\n",
       "    </tr>\n",
       "    <tr>\n",
       "      <th>311913</th>\n",
       "      <td>31-12-2020 23:20</td>\n",
       "      <td>50.792500</td>\n",
       "      <td>56.595000</td>\n",
       "      <td>58.920000</td>\n",
       "      <td>50.307499</td>\n",
       "      <td>37.410000</td>\n",
       "      <td>36.672500</td>\n",
       "      <td>23.297499</td>\n",
       "      <td>58.472500</td>\n",
       "    </tr>\n",
       "    <tr>\n",
       "      <th>311914</th>\n",
       "      <td>31-12-2020 23:30</td>\n",
       "      <td>50.742500</td>\n",
       "      <td>57.007500</td>\n",
       "      <td>59.552501</td>\n",
       "      <td>50.109999</td>\n",
       "      <td>38.177500</td>\n",
       "      <td>37.022499</td>\n",
       "      <td>23.299999</td>\n",
       "      <td>59.207500</td>\n",
       "    </tr>\n",
       "    <tr>\n",
       "      <th>311915</th>\n",
       "      <td>31-12-2020 23:40</td>\n",
       "      <td>50.799999</td>\n",
       "      <td>58.134999</td>\n",
       "      <td>60.345002</td>\n",
       "      <td>50.037499</td>\n",
       "      <td>38.872500</td>\n",
       "      <td>37.244998</td>\n",
       "      <td>23.319999</td>\n",
       "      <td>59.747500</td>\n",
       "    </tr>\n",
       "    <tr>\n",
       "      <th>311916</th>\n",
       "      <td>31-12-2020 23:50</td>\n",
       "      <td>50.772500</td>\n",
       "      <td>57.945000</td>\n",
       "      <td>60.092500</td>\n",
       "      <td>50.139998</td>\n",
       "      <td>39.507499</td>\n",
       "      <td>37.317499</td>\n",
       "      <td>23.344999</td>\n",
       "      <td>60.142500</td>\n",
       "    </tr>\n",
       "  </tbody>\n",
       "</table>\n",
       "<p>311917 rows × 9 columns</p>\n",
       "</div>"
      ],
      "text/plain": [
       "           Date and time  Gear oil temperature (°C)  \\\n",
       "0       01-01-2020 00:00                  56.972500   \n",
       "1       01-01-2020 00:10                  56.695001   \n",
       "2       01-01-2020 00:20                  56.640000   \n",
       "3       01-01-2020 00:30                  56.432500   \n",
       "4       01-01-2020 00:40                  56.169998   \n",
       "...                  ...                        ...   \n",
       "311912  31-12-2020 23:10                  50.830000   \n",
       "311913  31-12-2020 23:20                  50.792500   \n",
       "311914  31-12-2020 23:30                  50.742500   \n",
       "311915  31-12-2020 23:40                  50.799999   \n",
       "311916  31-12-2020 23:50                  50.772500   \n",
       "\n",
       "        Front bearing temperature (°C)  Rear bearing temperature (°C)  \\\n",
       "0                            65.880001                      65.382499   \n",
       "1                            64.602500                      64.712498   \n",
       "2                            64.740000                      64.917499   \n",
       "3                            63.137500                      63.990000   \n",
       "4                            62.037500                      63.525000   \n",
       "...                                ...                            ...   \n",
       "311912                       57.390000                      59.570001   \n",
       "311913                       56.595000                      58.920000   \n",
       "311914                       57.007500                      59.552501   \n",
       "311915                       58.134999                      60.345002   \n",
       "311916                       57.945000                      60.092500   \n",
       "\n",
       "        Gear oil inlet temperature (°C)  \\\n",
       "0                             55.497500   \n",
       "1                             55.230000   \n",
       "2                             55.107500   \n",
       "3                             55.135000   \n",
       "4                             54.915000   \n",
       "...                                 ...   \n",
       "311912                        50.375000   \n",
       "311913                        50.307499   \n",
       "311914                        50.109999   \n",
       "311915                        50.037499   \n",
       "311916                        50.139998   \n",
       "\n",
       "        Generator bearing front temperature (°C)  \\\n",
       "0                                      38.277500   \n",
       "1                                      39.145000   \n",
       "2                                      39.897500   \n",
       "3                                      40.625000   \n",
       "4                                      41.252500   \n",
       "...                                          ...   \n",
       "311912                                 36.480000   \n",
       "311913                                 37.410000   \n",
       "311914                                 38.177500   \n",
       "311915                                 38.872500   \n",
       "311916                                 39.507499   \n",
       "\n",
       "        Generator bearing rear temperature (°C)  Rotor bearing temp (°C)  \\\n",
       "0                                     36.752500                27.182501   \n",
       "1                                     37.037499                27.190001   \n",
       "2                                     37.347500                27.197501   \n",
       "3                                     37.752500                27.140001   \n",
       "4                                     38.362500                27.100000   \n",
       "...                                         ...                      ...   \n",
       "311912                                36.380000                23.212501   \n",
       "311913                                36.672500                23.297499   \n",
       "311914                                37.022499                23.299999   \n",
       "311915                                37.244998                23.319999   \n",
       "311916                                37.317499                23.344999   \n",
       "\n",
       "        Stator temperature 1 (°C)  \n",
       "0                       58.377500  \n",
       "1                       58.952500  \n",
       "2                       59.660000  \n",
       "3                       60.550000  \n",
       "4                       61.694999  \n",
       "...                           ...  \n",
       "311912                  57.970000  \n",
       "311913                  58.472500  \n",
       "311914                  59.207500  \n",
       "311915                  59.747500  \n",
       "311916                  60.142500  \n",
       "\n",
       "[311917 rows x 9 columns]"
      ]
     },
     "execution_count": 5,
     "metadata": {},
     "output_type": "execute_result"
    }
   ],
   "source": [
    "train_df"
   ]
  },
  {
   "cell_type": "code",
   "execution_count": 6,
   "metadata": {},
   "outputs": [
    {
     "data": {
      "text/html": [
       "<div>\n",
       "<style scoped>\n",
       "    .dataframe tbody tr th:only-of-type {\n",
       "        vertical-align: middle;\n",
       "    }\n",
       "\n",
       "    .dataframe tbody tr th {\n",
       "        vertical-align: top;\n",
       "    }\n",
       "\n",
       "    .dataframe thead th {\n",
       "        text-align: right;\n",
       "    }\n",
       "</style>\n",
       "<table border=\"1\" class=\"dataframe\">\n",
       "  <thead>\n",
       "    <tr style=\"text-align: right;\">\n",
       "      <th></th>\n",
       "      <th>Date and time</th>\n",
       "      <th>Gear oil temperature (°C)</th>\n",
       "      <th>Front bearing temperature (°C)</th>\n",
       "      <th>Rear bearing temperature (°C)</th>\n",
       "      <th>Gear oil inlet temperature (°C)</th>\n",
       "      <th>Generator bearing front temperature (°C)</th>\n",
       "      <th>Generator bearing rear temperature (°C)</th>\n",
       "      <th>Rotor bearing temp (°C)</th>\n",
       "      <th>Stator temperature 1 (°C)</th>\n",
       "    </tr>\n",
       "  </thead>\n",
       "  <tbody>\n",
       "    <tr>\n",
       "      <th>0</th>\n",
       "      <td>01-01-2021 00:00</td>\n",
       "      <td>17.442500</td>\n",
       "      <td>17.300000</td>\n",
       "      <td>15.615000</td>\n",
       "      <td>12.577500</td>\n",
       "      <td>16.700001</td>\n",
       "      <td>10.675000</td>\n",
       "      <td>10.700000</td>\n",
       "      <td>17.779999</td>\n",
       "    </tr>\n",
       "    <tr>\n",
       "      <th>1</th>\n",
       "      <td>01-01-2021 00:10</td>\n",
       "      <td>18.220000</td>\n",
       "      <td>17.172501</td>\n",
       "      <td>15.445000</td>\n",
       "      <td>13.687500</td>\n",
       "      <td>16.535000</td>\n",
       "      <td>10.600000</td>\n",
       "      <td>10.687500</td>\n",
       "      <td>17.600000</td>\n",
       "    </tr>\n",
       "    <tr>\n",
       "      <th>2</th>\n",
       "      <td>01-01-2021 00:20</td>\n",
       "      <td>18.230000</td>\n",
       "      <td>17.102500</td>\n",
       "      <td>15.490000</td>\n",
       "      <td>14.760000</td>\n",
       "      <td>16.427500</td>\n",
       "      <td>10.430000</td>\n",
       "      <td>10.600000</td>\n",
       "      <td>17.532500</td>\n",
       "    </tr>\n",
       "    <tr>\n",
       "      <th>3</th>\n",
       "      <td>01-01-2021 00:30</td>\n",
       "      <td>17.485000</td>\n",
       "      <td>17.035000</td>\n",
       "      <td>15.340000</td>\n",
       "      <td>12.520000</td>\n",
       "      <td>16.320000</td>\n",
       "      <td>10.327500</td>\n",
       "      <td>10.510000</td>\n",
       "      <td>17.495000</td>\n",
       "    </tr>\n",
       "    <tr>\n",
       "      <th>4</th>\n",
       "      <td>01-01-2021 00:40</td>\n",
       "      <td>17.785000</td>\n",
       "      <td>16.885000</td>\n",
       "      <td>15.220000</td>\n",
       "      <td>13.002500</td>\n",
       "      <td>16.200001</td>\n",
       "      <td>10.285000</td>\n",
       "      <td>10.380000</td>\n",
       "      <td>17.400000</td>\n",
       "    </tr>\n",
       "    <tr>\n",
       "      <th>...</th>\n",
       "      <td>...</td>\n",
       "      <td>...</td>\n",
       "      <td>...</td>\n",
       "      <td>...</td>\n",
       "      <td>...</td>\n",
       "      <td>...</td>\n",
       "      <td>...</td>\n",
       "      <td>...</td>\n",
       "      <td>...</td>\n",
       "    </tr>\n",
       "    <tr>\n",
       "      <th>142887</th>\n",
       "      <td>16-06-2021 07:40</td>\n",
       "      <td>57.497499</td>\n",
       "      <td>65.087501</td>\n",
       "      <td>66.695001</td>\n",
       "      <td>56.230000</td>\n",
       "      <td>47.552500</td>\n",
       "      <td>47.002500</td>\n",
       "      <td>31.000000</td>\n",
       "      <td>64.980001</td>\n",
       "    </tr>\n",
       "    <tr>\n",
       "      <th>142888</th>\n",
       "      <td>16-06-2021 07:50</td>\n",
       "      <td>57.591667</td>\n",
       "      <td>64.636111</td>\n",
       "      <td>66.141666</td>\n",
       "      <td>56.108333</td>\n",
       "      <td>44.544444</td>\n",
       "      <td>45.872222</td>\n",
       "      <td>31.000000</td>\n",
       "      <td>63.244444</td>\n",
       "    </tr>\n",
       "    <tr>\n",
       "      <th>142889</th>\n",
       "      <td>16-06-2021 08:00</td>\n",
       "      <td>57.375001</td>\n",
       "      <td>63.017500</td>\n",
       "      <td>65.092500</td>\n",
       "      <td>55.575000</td>\n",
       "      <td>41.740000</td>\n",
       "      <td>44.455000</td>\n",
       "      <td>31.062500</td>\n",
       "      <td>60.907500</td>\n",
       "    </tr>\n",
       "    <tr>\n",
       "      <th>142890</th>\n",
       "      <td>16-06-2021 08:10</td>\n",
       "      <td>57.239474</td>\n",
       "      <td>61.592105</td>\n",
       "      <td>63.465789</td>\n",
       "      <td>56.357895</td>\n",
       "      <td>40.365789</td>\n",
       "      <td>43.505264</td>\n",
       "      <td>31.157895</td>\n",
       "      <td>59.463159</td>\n",
       "    </tr>\n",
       "    <tr>\n",
       "      <th>142891</th>\n",
       "      <td>16-06-2021 08:20</td>\n",
       "      <td>56.509999</td>\n",
       "      <td>59.140000</td>\n",
       "      <td>60.300001</td>\n",
       "      <td>55.387501</td>\n",
       "      <td>40.855001</td>\n",
       "      <td>43.457501</td>\n",
       "      <td>31.125000</td>\n",
       "      <td>58.750000</td>\n",
       "    </tr>\n",
       "  </tbody>\n",
       "</table>\n",
       "<p>142892 rows × 9 columns</p>\n",
       "</div>"
      ],
      "text/plain": [
       "           Date and time  Gear oil temperature (°C)  \\\n",
       "0       01-01-2021 00:00                  17.442500   \n",
       "1       01-01-2021 00:10                  18.220000   \n",
       "2       01-01-2021 00:20                  18.230000   \n",
       "3       01-01-2021 00:30                  17.485000   \n",
       "4       01-01-2021 00:40                  17.785000   \n",
       "...                  ...                        ...   \n",
       "142887  16-06-2021 07:40                  57.497499   \n",
       "142888  16-06-2021 07:50                  57.591667   \n",
       "142889  16-06-2021 08:00                  57.375001   \n",
       "142890  16-06-2021 08:10                  57.239474   \n",
       "142891  16-06-2021 08:20                  56.509999   \n",
       "\n",
       "        Front bearing temperature (°C)  Rear bearing temperature (°C)  \\\n",
       "0                            17.300000                      15.615000   \n",
       "1                            17.172501                      15.445000   \n",
       "2                            17.102500                      15.490000   \n",
       "3                            17.035000                      15.340000   \n",
       "4                            16.885000                      15.220000   \n",
       "...                                ...                            ...   \n",
       "142887                       65.087501                      66.695001   \n",
       "142888                       64.636111                      66.141666   \n",
       "142889                       63.017500                      65.092500   \n",
       "142890                       61.592105                      63.465789   \n",
       "142891                       59.140000                      60.300001   \n",
       "\n",
       "        Gear oil inlet temperature (°C)  \\\n",
       "0                             12.577500   \n",
       "1                             13.687500   \n",
       "2                             14.760000   \n",
       "3                             12.520000   \n",
       "4                             13.002500   \n",
       "...                                 ...   \n",
       "142887                        56.230000   \n",
       "142888                        56.108333   \n",
       "142889                        55.575000   \n",
       "142890                        56.357895   \n",
       "142891                        55.387501   \n",
       "\n",
       "        Generator bearing front temperature (°C)  \\\n",
       "0                                      16.700001   \n",
       "1                                      16.535000   \n",
       "2                                      16.427500   \n",
       "3                                      16.320000   \n",
       "4                                      16.200001   \n",
       "...                                          ...   \n",
       "142887                                 47.552500   \n",
       "142888                                 44.544444   \n",
       "142889                                 41.740000   \n",
       "142890                                 40.365789   \n",
       "142891                                 40.855001   \n",
       "\n",
       "        Generator bearing rear temperature (°C)  Rotor bearing temp (°C)  \\\n",
       "0                                     10.675000                10.700000   \n",
       "1                                     10.600000                10.687500   \n",
       "2                                     10.430000                10.600000   \n",
       "3                                     10.327500                10.510000   \n",
       "4                                     10.285000                10.380000   \n",
       "...                                         ...                      ...   \n",
       "142887                                47.002500                31.000000   \n",
       "142888                                45.872222                31.000000   \n",
       "142889                                44.455000                31.062500   \n",
       "142890                                43.505264                31.157895   \n",
       "142891                                43.457501                31.125000   \n",
       "\n",
       "        Stator temperature 1 (°C)  \n",
       "0                       17.779999  \n",
       "1                       17.600000  \n",
       "2                       17.532500  \n",
       "3                       17.495000  \n",
       "4                       17.400000  \n",
       "...                           ...  \n",
       "142887                  64.980001  \n",
       "142888                  63.244444  \n",
       "142889                  60.907500  \n",
       "142890                  59.463159  \n",
       "142891                  58.750000  \n",
       "\n",
       "[142892 rows x 9 columns]"
      ]
     },
     "execution_count": 6,
     "metadata": {},
     "output_type": "execute_result"
    }
   ],
   "source": [
    "test_df"
   ]
  },
  {
   "cell_type": "code",
   "execution_count": 7,
   "metadata": {},
   "outputs": [],
   "source": [
    "train_df.drop('Date and time', axis=1, inplace=True)\n",
    "test_df.drop('Date and time', axis=1, inplace=True)"
   ]
  },
  {
   "cell_type": "code",
   "execution_count": 8,
   "metadata": {},
   "outputs": [
    {
     "data": {
      "text/html": [
       "<div>\n",
       "<style scoped>\n",
       "    .dataframe tbody tr th:only-of-type {\n",
       "        vertical-align: middle;\n",
       "    }\n",
       "\n",
       "    .dataframe tbody tr th {\n",
       "        vertical-align: top;\n",
       "    }\n",
       "\n",
       "    .dataframe thead th {\n",
       "        text-align: right;\n",
       "    }\n",
       "</style>\n",
       "<table border=\"1\" class=\"dataframe\">\n",
       "  <thead>\n",
       "    <tr style=\"text-align: right;\">\n",
       "      <th></th>\n",
       "      <th>Gear oil temperature (°C)</th>\n",
       "      <th>Front bearing temperature (°C)</th>\n",
       "      <th>Rear bearing temperature (°C)</th>\n",
       "      <th>Gear oil inlet temperature (°C)</th>\n",
       "      <th>Generator bearing front temperature (°C)</th>\n",
       "      <th>Generator bearing rear temperature (°C)</th>\n",
       "      <th>Rotor bearing temp (°C)</th>\n",
       "      <th>Stator temperature 1 (°C)</th>\n",
       "    </tr>\n",
       "  </thead>\n",
       "  <tbody>\n",
       "    <tr>\n",
       "      <th>0</th>\n",
       "      <td>56.972500</td>\n",
       "      <td>65.880001</td>\n",
       "      <td>65.382499</td>\n",
       "      <td>55.497500</td>\n",
       "      <td>38.277500</td>\n",
       "      <td>36.752500</td>\n",
       "      <td>27.182501</td>\n",
       "      <td>58.377500</td>\n",
       "    </tr>\n",
       "    <tr>\n",
       "      <th>1</th>\n",
       "      <td>56.695001</td>\n",
       "      <td>64.602500</td>\n",
       "      <td>64.712498</td>\n",
       "      <td>55.230000</td>\n",
       "      <td>39.145000</td>\n",
       "      <td>37.037499</td>\n",
       "      <td>27.190001</td>\n",
       "      <td>58.952500</td>\n",
       "    </tr>\n",
       "    <tr>\n",
       "      <th>2</th>\n",
       "      <td>56.640000</td>\n",
       "      <td>64.740000</td>\n",
       "      <td>64.917499</td>\n",
       "      <td>55.107500</td>\n",
       "      <td>39.897500</td>\n",
       "      <td>37.347500</td>\n",
       "      <td>27.197501</td>\n",
       "      <td>59.660000</td>\n",
       "    </tr>\n",
       "    <tr>\n",
       "      <th>3</th>\n",
       "      <td>56.432500</td>\n",
       "      <td>63.137500</td>\n",
       "      <td>63.990000</td>\n",
       "      <td>55.135000</td>\n",
       "      <td>40.625000</td>\n",
       "      <td>37.752500</td>\n",
       "      <td>27.140001</td>\n",
       "      <td>60.550000</td>\n",
       "    </tr>\n",
       "    <tr>\n",
       "      <th>4</th>\n",
       "      <td>56.169998</td>\n",
       "      <td>62.037500</td>\n",
       "      <td>63.525000</td>\n",
       "      <td>54.915000</td>\n",
       "      <td>41.252500</td>\n",
       "      <td>38.362500</td>\n",
       "      <td>27.100000</td>\n",
       "      <td>61.694999</td>\n",
       "    </tr>\n",
       "    <tr>\n",
       "      <th>...</th>\n",
       "      <td>...</td>\n",
       "      <td>...</td>\n",
       "      <td>...</td>\n",
       "      <td>...</td>\n",
       "      <td>...</td>\n",
       "      <td>...</td>\n",
       "      <td>...</td>\n",
       "      <td>...</td>\n",
       "    </tr>\n",
       "    <tr>\n",
       "      <th>311912</th>\n",
       "      <td>50.830000</td>\n",
       "      <td>57.390000</td>\n",
       "      <td>59.570001</td>\n",
       "      <td>50.375000</td>\n",
       "      <td>36.480000</td>\n",
       "      <td>36.380000</td>\n",
       "      <td>23.212501</td>\n",
       "      <td>57.970000</td>\n",
       "    </tr>\n",
       "    <tr>\n",
       "      <th>311913</th>\n",
       "      <td>50.792500</td>\n",
       "      <td>56.595000</td>\n",
       "      <td>58.920000</td>\n",
       "      <td>50.307499</td>\n",
       "      <td>37.410000</td>\n",
       "      <td>36.672500</td>\n",
       "      <td>23.297499</td>\n",
       "      <td>58.472500</td>\n",
       "    </tr>\n",
       "    <tr>\n",
       "      <th>311914</th>\n",
       "      <td>50.742500</td>\n",
       "      <td>57.007500</td>\n",
       "      <td>59.552501</td>\n",
       "      <td>50.109999</td>\n",
       "      <td>38.177500</td>\n",
       "      <td>37.022499</td>\n",
       "      <td>23.299999</td>\n",
       "      <td>59.207500</td>\n",
       "    </tr>\n",
       "    <tr>\n",
       "      <th>311915</th>\n",
       "      <td>50.799999</td>\n",
       "      <td>58.134999</td>\n",
       "      <td>60.345002</td>\n",
       "      <td>50.037499</td>\n",
       "      <td>38.872500</td>\n",
       "      <td>37.244998</td>\n",
       "      <td>23.319999</td>\n",
       "      <td>59.747500</td>\n",
       "    </tr>\n",
       "    <tr>\n",
       "      <th>311916</th>\n",
       "      <td>50.772500</td>\n",
       "      <td>57.945000</td>\n",
       "      <td>60.092500</td>\n",
       "      <td>50.139998</td>\n",
       "      <td>39.507499</td>\n",
       "      <td>37.317499</td>\n",
       "      <td>23.344999</td>\n",
       "      <td>60.142500</td>\n",
       "    </tr>\n",
       "  </tbody>\n",
       "</table>\n",
       "<p>311917 rows × 8 columns</p>\n",
       "</div>"
      ],
      "text/plain": [
       "        Gear oil temperature (°C)  Front bearing temperature (°C)  \\\n",
       "0                       56.972500                       65.880001   \n",
       "1                       56.695001                       64.602500   \n",
       "2                       56.640000                       64.740000   \n",
       "3                       56.432500                       63.137500   \n",
       "4                       56.169998                       62.037500   \n",
       "...                           ...                             ...   \n",
       "311912                  50.830000                       57.390000   \n",
       "311913                  50.792500                       56.595000   \n",
       "311914                  50.742500                       57.007500   \n",
       "311915                  50.799999                       58.134999   \n",
       "311916                  50.772500                       57.945000   \n",
       "\n",
       "        Rear bearing temperature (°C)  Gear oil inlet temperature (°C)  \\\n",
       "0                           65.382499                        55.497500   \n",
       "1                           64.712498                        55.230000   \n",
       "2                           64.917499                        55.107500   \n",
       "3                           63.990000                        55.135000   \n",
       "4                           63.525000                        54.915000   \n",
       "...                               ...                              ...   \n",
       "311912                      59.570001                        50.375000   \n",
       "311913                      58.920000                        50.307499   \n",
       "311914                      59.552501                        50.109999   \n",
       "311915                      60.345002                        50.037499   \n",
       "311916                      60.092500                        50.139998   \n",
       "\n",
       "        Generator bearing front temperature (°C)  \\\n",
       "0                                      38.277500   \n",
       "1                                      39.145000   \n",
       "2                                      39.897500   \n",
       "3                                      40.625000   \n",
       "4                                      41.252500   \n",
       "...                                          ...   \n",
       "311912                                 36.480000   \n",
       "311913                                 37.410000   \n",
       "311914                                 38.177500   \n",
       "311915                                 38.872500   \n",
       "311916                                 39.507499   \n",
       "\n",
       "        Generator bearing rear temperature (°C)  Rotor bearing temp (°C)  \\\n",
       "0                                     36.752500                27.182501   \n",
       "1                                     37.037499                27.190001   \n",
       "2                                     37.347500                27.197501   \n",
       "3                                     37.752500                27.140001   \n",
       "4                                     38.362500                27.100000   \n",
       "...                                         ...                      ...   \n",
       "311912                                36.380000                23.212501   \n",
       "311913                                36.672500                23.297499   \n",
       "311914                                37.022499                23.299999   \n",
       "311915                                37.244998                23.319999   \n",
       "311916                                37.317499                23.344999   \n",
       "\n",
       "        Stator temperature 1 (°C)  \n",
       "0                       58.377500  \n",
       "1                       58.952500  \n",
       "2                       59.660000  \n",
       "3                       60.550000  \n",
       "4                       61.694999  \n",
       "...                           ...  \n",
       "311912                  57.970000  \n",
       "311913                  58.472500  \n",
       "311914                  59.207500  \n",
       "311915                  59.747500  \n",
       "311916                  60.142500  \n",
       "\n",
       "[311917 rows x 8 columns]"
      ]
     },
     "execution_count": 8,
     "metadata": {},
     "output_type": "execute_result"
    }
   ],
   "source": [
    "train_df"
   ]
  },
  {
   "cell_type": "code",
   "execution_count": 9,
   "metadata": {},
   "outputs": [
    {
     "data": {
      "text/html": [
       "<div>\n",
       "<style scoped>\n",
       "    .dataframe tbody tr th:only-of-type {\n",
       "        vertical-align: middle;\n",
       "    }\n",
       "\n",
       "    .dataframe tbody tr th {\n",
       "        vertical-align: top;\n",
       "    }\n",
       "\n",
       "    .dataframe thead th {\n",
       "        text-align: right;\n",
       "    }\n",
       "</style>\n",
       "<table border=\"1\" class=\"dataframe\">\n",
       "  <thead>\n",
       "    <tr style=\"text-align: right;\">\n",
       "      <th></th>\n",
       "      <th>Gear oil temperature (°C)</th>\n",
       "      <th>Front bearing temperature (°C)</th>\n",
       "      <th>Rear bearing temperature (°C)</th>\n",
       "      <th>Gear oil inlet temperature (°C)</th>\n",
       "      <th>Generator bearing front temperature (°C)</th>\n",
       "      <th>Generator bearing rear temperature (°C)</th>\n",
       "      <th>Rotor bearing temp (°C)</th>\n",
       "      <th>Stator temperature 1 (°C)</th>\n",
       "    </tr>\n",
       "  </thead>\n",
       "  <tbody>\n",
       "    <tr>\n",
       "      <th>0</th>\n",
       "      <td>17.442500</td>\n",
       "      <td>17.300000</td>\n",
       "      <td>15.615000</td>\n",
       "      <td>12.577500</td>\n",
       "      <td>16.700001</td>\n",
       "      <td>10.675000</td>\n",
       "      <td>10.700000</td>\n",
       "      <td>17.779999</td>\n",
       "    </tr>\n",
       "    <tr>\n",
       "      <th>1</th>\n",
       "      <td>18.220000</td>\n",
       "      <td>17.172501</td>\n",
       "      <td>15.445000</td>\n",
       "      <td>13.687500</td>\n",
       "      <td>16.535000</td>\n",
       "      <td>10.600000</td>\n",
       "      <td>10.687500</td>\n",
       "      <td>17.600000</td>\n",
       "    </tr>\n",
       "    <tr>\n",
       "      <th>2</th>\n",
       "      <td>18.230000</td>\n",
       "      <td>17.102500</td>\n",
       "      <td>15.490000</td>\n",
       "      <td>14.760000</td>\n",
       "      <td>16.427500</td>\n",
       "      <td>10.430000</td>\n",
       "      <td>10.600000</td>\n",
       "      <td>17.532500</td>\n",
       "    </tr>\n",
       "    <tr>\n",
       "      <th>3</th>\n",
       "      <td>17.485000</td>\n",
       "      <td>17.035000</td>\n",
       "      <td>15.340000</td>\n",
       "      <td>12.520000</td>\n",
       "      <td>16.320000</td>\n",
       "      <td>10.327500</td>\n",
       "      <td>10.510000</td>\n",
       "      <td>17.495000</td>\n",
       "    </tr>\n",
       "    <tr>\n",
       "      <th>4</th>\n",
       "      <td>17.785000</td>\n",
       "      <td>16.885000</td>\n",
       "      <td>15.220000</td>\n",
       "      <td>13.002500</td>\n",
       "      <td>16.200001</td>\n",
       "      <td>10.285000</td>\n",
       "      <td>10.380000</td>\n",
       "      <td>17.400000</td>\n",
       "    </tr>\n",
       "    <tr>\n",
       "      <th>...</th>\n",
       "      <td>...</td>\n",
       "      <td>...</td>\n",
       "      <td>...</td>\n",
       "      <td>...</td>\n",
       "      <td>...</td>\n",
       "      <td>...</td>\n",
       "      <td>...</td>\n",
       "      <td>...</td>\n",
       "    </tr>\n",
       "    <tr>\n",
       "      <th>142887</th>\n",
       "      <td>57.497499</td>\n",
       "      <td>65.087501</td>\n",
       "      <td>66.695001</td>\n",
       "      <td>56.230000</td>\n",
       "      <td>47.552500</td>\n",
       "      <td>47.002500</td>\n",
       "      <td>31.000000</td>\n",
       "      <td>64.980001</td>\n",
       "    </tr>\n",
       "    <tr>\n",
       "      <th>142888</th>\n",
       "      <td>57.591667</td>\n",
       "      <td>64.636111</td>\n",
       "      <td>66.141666</td>\n",
       "      <td>56.108333</td>\n",
       "      <td>44.544444</td>\n",
       "      <td>45.872222</td>\n",
       "      <td>31.000000</td>\n",
       "      <td>63.244444</td>\n",
       "    </tr>\n",
       "    <tr>\n",
       "      <th>142889</th>\n",
       "      <td>57.375001</td>\n",
       "      <td>63.017500</td>\n",
       "      <td>65.092500</td>\n",
       "      <td>55.575000</td>\n",
       "      <td>41.740000</td>\n",
       "      <td>44.455000</td>\n",
       "      <td>31.062500</td>\n",
       "      <td>60.907500</td>\n",
       "    </tr>\n",
       "    <tr>\n",
       "      <th>142890</th>\n",
       "      <td>57.239474</td>\n",
       "      <td>61.592105</td>\n",
       "      <td>63.465789</td>\n",
       "      <td>56.357895</td>\n",
       "      <td>40.365789</td>\n",
       "      <td>43.505264</td>\n",
       "      <td>31.157895</td>\n",
       "      <td>59.463159</td>\n",
       "    </tr>\n",
       "    <tr>\n",
       "      <th>142891</th>\n",
       "      <td>56.509999</td>\n",
       "      <td>59.140000</td>\n",
       "      <td>60.300001</td>\n",
       "      <td>55.387501</td>\n",
       "      <td>40.855001</td>\n",
       "      <td>43.457501</td>\n",
       "      <td>31.125000</td>\n",
       "      <td>58.750000</td>\n",
       "    </tr>\n",
       "  </tbody>\n",
       "</table>\n",
       "<p>142892 rows × 8 columns</p>\n",
       "</div>"
      ],
      "text/plain": [
       "        Gear oil temperature (°C)  Front bearing temperature (°C)  \\\n",
       "0                       17.442500                       17.300000   \n",
       "1                       18.220000                       17.172501   \n",
       "2                       18.230000                       17.102500   \n",
       "3                       17.485000                       17.035000   \n",
       "4                       17.785000                       16.885000   \n",
       "...                           ...                             ...   \n",
       "142887                  57.497499                       65.087501   \n",
       "142888                  57.591667                       64.636111   \n",
       "142889                  57.375001                       63.017500   \n",
       "142890                  57.239474                       61.592105   \n",
       "142891                  56.509999                       59.140000   \n",
       "\n",
       "        Rear bearing temperature (°C)  Gear oil inlet temperature (°C)  \\\n",
       "0                           15.615000                        12.577500   \n",
       "1                           15.445000                        13.687500   \n",
       "2                           15.490000                        14.760000   \n",
       "3                           15.340000                        12.520000   \n",
       "4                           15.220000                        13.002500   \n",
       "...                               ...                              ...   \n",
       "142887                      66.695001                        56.230000   \n",
       "142888                      66.141666                        56.108333   \n",
       "142889                      65.092500                        55.575000   \n",
       "142890                      63.465789                        56.357895   \n",
       "142891                      60.300001                        55.387501   \n",
       "\n",
       "        Generator bearing front temperature (°C)  \\\n",
       "0                                      16.700001   \n",
       "1                                      16.535000   \n",
       "2                                      16.427500   \n",
       "3                                      16.320000   \n",
       "4                                      16.200001   \n",
       "...                                          ...   \n",
       "142887                                 47.552500   \n",
       "142888                                 44.544444   \n",
       "142889                                 41.740000   \n",
       "142890                                 40.365789   \n",
       "142891                                 40.855001   \n",
       "\n",
       "        Generator bearing rear temperature (°C)  Rotor bearing temp (°C)  \\\n",
       "0                                     10.675000                10.700000   \n",
       "1                                     10.600000                10.687500   \n",
       "2                                     10.430000                10.600000   \n",
       "3                                     10.327500                10.510000   \n",
       "4                                     10.285000                10.380000   \n",
       "...                                         ...                      ...   \n",
       "142887                                47.002500                31.000000   \n",
       "142888                                45.872222                31.000000   \n",
       "142889                                44.455000                31.062500   \n",
       "142890                                43.505264                31.157895   \n",
       "142891                                43.457501                31.125000   \n",
       "\n",
       "        Stator temperature 1 (°C)  \n",
       "0                       17.779999  \n",
       "1                       17.600000  \n",
       "2                       17.532500  \n",
       "3                       17.495000  \n",
       "4                       17.400000  \n",
       "...                           ...  \n",
       "142887                  64.980001  \n",
       "142888                  63.244444  \n",
       "142889                  60.907500  \n",
       "142890                  59.463159  \n",
       "142891                  58.750000  \n",
       "\n",
       "[142892 rows x 8 columns]"
      ]
     },
     "execution_count": 9,
     "metadata": {},
     "output_type": "execute_result"
    }
   ],
   "source": [
    "test_df"
   ]
  },
  {
   "cell_type": "markdown",
   "metadata": {},
   "source": [
    "### AutoEncoder for Anomoly Detection"
   ]
  },
  {
   "cell_type": "code",
   "execution_count": 10,
   "metadata": {},
   "outputs": [
    {
     "name": "stdout",
     "output_type": "stream",
     "text": [
      "Model: \"model\"\n",
      "_________________________________________________________________\n",
      " Layer (type)                Output Shape              Param #   \n",
      "=================================================================\n",
      " input_1 (InputLayer)        [(None, 8, 8)]            0         \n",
      "                                                                 \n",
      " dense (Dense)               (None, 8, 256)            2304      \n",
      "                                                                 \n",
      " dense_1 (Dense)             (None, 8, 128)            32896     \n",
      "                                                                 \n",
      " dense_2 (Dense)             (None, 8, 64)             8256      \n",
      "                                                                 \n",
      " dense_3 (Dense)             (None, 8, 32)             2080      \n",
      "                                                                 \n",
      " dense_4 (Dense)             (None, 8, 16)             528       \n",
      "                                                                 \n",
      " dense_5 (Dense)             (None, 8, 32)             544       \n",
      "                                                                 \n",
      " dense_6 (Dense)             (None, 8, 64)             2112      \n",
      "                                                                 \n",
      " dense_7 (Dense)             (None, 8, 8)              520       \n",
      "                                                                 \n",
      "=================================================================\n",
      "Total params: 49,240\n",
      "Trainable params: 49,240\n",
      "Non-trainable params: 0\n",
      "_________________________________________________________________\n"
     ]
    }
   ],
   "source": [
    "# Defining the autoencoder model\n",
    "input_layer = Input(shape=(train_df.shape[1],8))\n",
    "encoded = Dense(256, activation='relu')(input_layer)\n",
    "encoded = Dense(128, activation='relu')(encoded)\n",
    "encoded = Dense(64, activation='relu')(encoded)\n",
    "encoded = Dense(32, activation='relu')(encoded)\n",
    "encoded = Dense(16, activation='relu')(encoded)\n",
    "decoded = Dense(32, activation='relu')(encoded)\n",
    "decoded = Dense(64, activation='relu')(decoded)\n",
    "decoded = Dense(train_df.shape[1], activation='relu')(decoded)\n",
    "\n",
    "autoencoder = Model(input_layer, decoded)\n",
    "\n",
    "# Compiling the model\n",
    "autoencoder.compile(optimizer='adam', loss='mean_squared_error')\n",
    "autoencoder.summary()"
   ]
  },
  {
   "cell_type": "code",
   "execution_count": 11,
   "metadata": {},
   "outputs": [],
   "source": [
    "# #fitting the model\n",
    "# history = autoencoder.fit(train_df, train_df, epochs=100, batch_size=64,validation_split=0.2, shuffle=True).history"
   ]
  },
  {
   "cell_type": "code",
   "execution_count": 12,
   "metadata": {},
   "outputs": [],
   "source": [
    "# model_json = autoencoder.to_json()\n",
    "# with open(\"../Model Files/Autoencoder Model/Anomoly_det_model.json\", \"w\") as json_file:\n",
    "#     json_file.write(model_json)\n",
    "\n",
    "# autoencoder.save_weights(\"../Model Files/Autoencoder ModelAnomoly_det_model.h5\")"
   ]
  },
  {
   "cell_type": "code",
   "execution_count": 13,
   "metadata": {},
   "outputs": [],
   "source": [
    "# fig, ax = plt.subplots(figsize=(14, 6), dpi=80,)\n",
    "# ax.plot(history['loss'], 'b', label='Train', linewidth=2)\n",
    "# ax.plot(history['val_loss'], 'r', label='Validation', linewidth=2)\n",
    "# ax.set_title('Model loss', fontsize=16)\n",
    "# ax.set_ylabel('Loss (mae)')\n",
    "# ax.set_xlabel('Epoch')\n",
    "# ax.legend(loc='upper right')\n",
    "# plt.show()"
   ]
  },
  {
   "cell_type": "markdown",
   "metadata": {},
   "source": [
    "### Calling the Autoencoder Model to find Thershold and Anomaly values"
   ]
  },
  {
   "cell_type": "code",
   "execution_count": 14,
   "metadata": {},
   "outputs": [],
   "source": [
    "file = open('../Model Files/Autoencoder Model/Anomoly_det_model.json', 'r')\n",
    "loaded  = file.read()\n",
    "file.close()\n",
    "\n",
    "autoencoder = model_from_json(loaded)\n",
    "autoencoder.load_weights(\"../Model Files/Autoencoder Model/Anomoly_det_model.h5\")"
   ]
  },
  {
   "cell_type": "code",
   "execution_count": 15,
   "metadata": {},
   "outputs": [
    {
     "name": "stdout",
     "output_type": "stream",
     "text": [
      "9748/9748 [==============================] - 8s 840us/step\n"
     ]
    }
   ],
   "source": [
    "train_pred=autoencoder.predict(train_df)\n",
    "train_pred=train_pred.reshape(train_pred.shape[0],train_pred.shape[1])\n",
    "\n",
    "train=train_df.values.reshape(train_df.shape[0],train_df.shape[1])"
   ]
  },
  {
   "cell_type": "code",
   "execution_count": 16,
   "metadata": {},
   "outputs": [],
   "source": [
    "loss=np.mean(np.abs(train_pred-train),axis=1)"
   ]
  },
  {
   "cell_type": "code",
   "execution_count": 17,
   "metadata": {},
   "outputs": [
    {
     "data": {
      "image/png": "[encoded data removed]",
      "text/plain": [
       "<Figure size 640x480 with 1 Axes>"
      ]
     },
     "metadata": {},
     "output_type": "display_data"
    }
   ],
   "source": [
    "plt.hist(loss,color='red')\n",
    "plt.xlabel('MAE')\n",
    "plt.ylabel('Frequency')\n",
    "plt.show()"
   ]
  },
  {
   "cell_type": "code",
   "execution_count": 18,
   "metadata": {},
   "outputs": [
    {
     "name": "stderr",
     "output_type": "stream",
     "text": [
      "c:\\Users\\tanus\\AppData\\Local\\Programs\\Python\\Python311\\Lib\\site-packages\\seaborn\\axisgrid.py:118: UserWarning: The figure layout has changed to tight\n",
      "  self._figure.tight_layout(*args, **kwargs)\n"
     ]
    },
    {
     "data": {
      "text/plain": [
       "<seaborn.axisgrid.FacetGrid at 0x1d6fcf4e790>"
      ]
     },
     "execution_count": 18,
     "metadata": {},
     "output_type": "execute_result"
    },
    {
     "data": {
      "text/plain": [
       "<Figure size 500x500 with 0 Axes>"
      ]
     },
     "metadata": {},
     "output_type": "display_data"
    },
    {
     "data": {
      "image/png": "[encoded data removed]",
      "text/plain": [
       "<Figure size 500x500 with 1 Axes>"
      ]
     },
     "metadata": {},
     "output_type": "display_data"
    }
   ],
   "source": [
    "plt.figure(figsize=(5,5))\n",
    "sns.displot(loss,kde=True,color='blue')"
   ]
  },
  {
   "cell_type": "code",
   "execution_count": 19,
   "metadata": {},
   "outputs": [
    {
     "name": "stdout",
     "output_type": "stream",
     "text": [
      "4466/4466 [==============================] - 4s 815us/step\n"
     ]
    }
   ],
   "source": [
    "test_pred=autoencoder.predict(test_df)\n",
    "test_pred=test_pred.reshape(test_pred.shape[0],test_pred.shape[1])"
   ]
  },
  {
   "cell_type": "code",
   "execution_count": 20,
   "metadata": {},
   "outputs": [
    {
     "data": {
      "text/plain": [
       "array([[17.438877, 17.383589, 15.668121, ..., 10.755261, 10.70062 ,\n",
       "        17.758497],\n",
       "       [18.212355, 17.228868, 15.52341 , ..., 10.661375, 10.708209,\n",
       "        17.585917],\n",
       "       [18.229523, 17.188467, 15.577763, ..., 10.552832, 10.614993,\n",
       "        17.550272],\n",
       "       ...,\n",
       "       [57.425907, 63.097336, 65.08534 , ..., 44.45974 , 31.047415,\n",
       "        60.97353 ],\n",
       "       [57.292217, 61.664818, 63.46321 , ..., 43.5143  , 31.146173,\n",
       "        59.529064],\n",
       "       [56.56615 , 59.2124  , 60.305607, ..., 43.471745, 31.118753,\n",
       "        58.808784]], dtype=float32)"
      ]
     },
     "execution_count": 20,
     "metadata": {},
     "output_type": "execute_result"
    }
   ],
   "source": [
    "test_pred"
   ]
  },
  {
   "cell_type": "code",
   "execution_count": 21,
   "metadata": {},
   "outputs": [],
   "source": [
    "test=test_df.values.reshape(test_df.shape[0],test_df.shape[1])"
   ]
  },
  {
   "cell_type": "code",
   "execution_count": 22,
   "metadata": {},
   "outputs": [
    {
     "name": "stderr",
     "output_type": "stream",
     "text": [
      "c:\\Users\\tanus\\AppData\\Local\\Programs\\Python\\Python311\\Lib\\site-packages\\seaborn\\axisgrid.py:118: UserWarning: The figure layout has changed to tight\n",
      "  self._figure.tight_layout(*args, **kwargs)\n",
      "c:\\Users\\tanus\\AppData\\Local\\Programs\\Python\\Python311\\Lib\\site-packages\\seaborn\\axisgrid.py:118: UserWarning: The figure layout has changed to tight\n",
      "  self._figure.tight_layout(*args, **kwargs)\n"
     ]
    },
    {
     "data": {
      "text/plain": [
       "<seaborn.axisgrid.FacetGrid at 0x1d697db65d0>"
      ]
     },
     "execution_count": 22,
     "metadata": {},
     "output_type": "execute_result"
    },
    {
     "data": {
      "text/plain": [
       "<Figure size 500x500 with 0 Axes>"
      ]
     },
     "metadata": {},
     "output_type": "display_data"
    },
    {
     "data": {
      "image/png": "[encoded data removed]",
      "text/plain": [
       "<Figure size 500x500 with 1 Axes>"
      ]
     },
     "metadata": {},
     "output_type": "display_data"
    },
    {
     "data": {
      "image/png": "[encoded data removed]",
      "text/plain": [
       "<Figure size 500x500 with 1 Axes>"
      ]
     },
     "metadata": {},
     "output_type": "display_data"
    }
   ],
   "source": [
    "test_loss=np.mean(np.abs(test_pred-test),axis=1)\n",
    "plt.figure(figsize=(5,5))\n",
    "sns.displot(loss,kde=True,color='red',label='Training Loss')\n",
    "sns.displot(test_loss,kde=True,color='blue',label='Testing Loss')"
   ]
  },
  {
   "cell_type": "code",
   "execution_count": 27,
   "metadata": {},
   "outputs": [
    {
     "data": {
      "application/vnd.plotly.v1+json": {
       "config": {
        "plotlyServerURL": "https://plot.ly"
       },
       "data": [
        {
         "line": {
          "color": "blue"
         },
         "marker": {
          "size": 8
         },
         "mode": "lines+markers",
         "type": "scatter",
         "x": [
          0,
          1,
          2,
          3,
          4,
          5,
          6,
          7,
          8,
          9,
          10,
          11,
          12,
          13,
          14,
          15,
          16,
          17,
          18,
          19,
          20,
          21,
          22,
          23,
          24,
          25
         ],
         "y": [
          0.07315997682677083,
          0.12435580065664378,
          0.17555162448651673,
          0.22674744831638965,
          0.2779432721462626,
          0.32913909597613555,
          0.3803349198060085,
          0.43153074363588145,
          0.4827265674657544,
          0.5339223912956272,
          0.5851182151255003,
          0.6363140389553732,
          0.6875098627852461,
          0.7387056866151192,
          0.789901510444992,
          0.8410973342748649,
          0.892293158104738,
          0.9434889819346108,
          0.9946848057644837,
          1.0458806295943568,
          1.0970764534242297,
          1.1482722772541025,
          1.1994681010839756,
          1.2506639249138485,
          1.3018597487437213,
          1.3530555725735944
         ]
        }
       ],
       "layout": {
        "template": {
         "data": {
          "bar": [
           {
            "error_x": {
             "color": "#2a3f5f"
            },
            "error_y": {
             "color": "#2a3f5f"
            },
            "marker": {
             "line": {
              "color": "white",
              "width": 0.5
             },
             "pattern": {
              "fillmode": "overlay",
              "size": 10,
              "solidity": 0.2
             }
            },
            "type": "bar"
           }
          ],
          "barpolar": [
           {
            "marker": {
             "line": {
              "color": "white",
              "width": 0.5
             },
             "pattern": {
              "fillmode": "overlay",
              "size": 10,
              "solidity": 0.2
             }
            },
            "type": "barpolar"
           }
          ],
          "carpet": [
           {
            "aaxis": {
             "endlinecolor": "#2a3f5f",
             "gridcolor": "#C8D4E3",
             "linecolor": "#C8D4E3",
             "minorgridcolor": "#C8D4E3",
             "startlinecolor": "#2a3f5f"
            },
            "baxis": {
             "endlinecolor": "#2a3f5f",
             "gridcolor": "#C8D4E3",
             "linecolor": "#C8D4E3",
             "minorgridcolor": "#C8D4E3",
             "startlinecolor": "#2a3f5f"
            },
            "type": "carpet"
           }
          ],
          "choropleth": [
           {
            "colorbar": {
             "outlinewidth": 0,
             "ticks": ""
            },
            "type": "choropleth"
           }
          ],
          "contour": [
           {
            "colorbar": {
             "outlinewidth": 0,
             "ticks": ""
            },
            "colorscale": [
             [
              0,
              "#0d0887"
             ],
             [
              0.1111111111111111,
              "#46039f"
             ],
             [
              0.2222222222222222,
              "#7201a8"
             ],
             [
              0.3333333333333333,
              "#9c179e"
             ],
             [
              0.4444444444444444,
              "#bd3786"
             ],
             [
              0.5555555555555556,
              "#d8576b"
             ],
             [
              0.6666666666666666,
              "#ed7953"
             ],
             [
              0.7777777777777778,
              "#fb9f3a"
             ],
             [
              0.8888888888888888,
              "#fdca26"
             ],
             [
              1,
              "#f0f921"
             ]
            ],
            "type": "contour"
           }
          ],
          "contourcarpet": [
           {
            "colorbar": {
             "outlinewidth": 0,
             "ticks": ""
            },
            "type": "contourcarpet"
           }
          ],
          "heatmap": [
           {
            "colorbar": {
             "outlinewidth": 0,
             "ticks": ""
            },
            "colorscale": [
             [
              0,
              "#0d0887"
             ],
             [
              0.1111111111111111,
              "#46039f"
             ],
             [
              0.2222222222222222,
              "#7201a8"
             ],
             [
              0.3333333333333333,
              "#9c179e"
             ],
             [
              0.4444444444444444,
              "#bd3786"
             ],
             [
              0.5555555555555556,
              "#d8576b"
             ],
             [
              0.6666666666666666,
              "#ed7953"
             ],
             [
              0.7777777777777778,
              "#fb9f3a"
             ],
             [
              0.8888888888888888,
              "#fdca26"
             ],
             [
              1,
              "#f0f921"
             ]
            ],
            "type": "heatmap"
           }
          ],
          "heatmapgl": [
           {
            "colorbar": {
             "outlinewidth": 0,
             "ticks": ""
            },
            "colorscale": [
             [
              0,
              "#0d0887"
             ],
             [
              0.1111111111111111,
              "#46039f"
             ],
             [
              0.2222222222222222,
              "#7201a8"
             ],
             [
              0.3333333333333333,
              "#9c179e"
             ],
             [
              0.4444444444444444,
              "#bd3786"
             ],
             [
              0.5555555555555556,
              "#d8576b"
             ],
             [
              0.6666666666666666,
              "#ed7953"
             ],
             [
              0.7777777777777778,
              "#fb9f3a"
             ],
             [
              0.8888888888888888,
              "#fdca26"
             ],
             [
              1,
              "#f0f921"
             ]
            ],
            "type": "heatmapgl"
           }
          ],
          "histogram": [
           {
            "marker": {
             "pattern": {
              "fillmode": "overlay",
              "size": 10,
              "solidity": 0.2
             }
            },
            "type": "histogram"
           }
          ],
          "histogram2d": [
           {
            "colorbar": {
             "outlinewidth": 0,
             "ticks": ""
            },
            "colorscale": [
             [
              0,
              "#0d0887"
             ],
             [
              0.1111111111111111,
              "#46039f"
             ],
             [
              0.2222222222222222,
              "#7201a8"
             ],
             [
              0.3333333333333333,
              "#9c179e"
             ],
             [
              0.4444444444444444,
              "#bd3786"
             ],
             [
              0.5555555555555556,
              "#d8576b"
             ],
             [
              0.6666666666666666,
              "#ed7953"
             ],
             [
              0.7777777777777778,
              "#fb9f3a"
             ],
             [
              0.8888888888888888,
              "#fdca26"
             ],
             [
              1,
              "#f0f921"
             ]
            ],
            "type": "histogram2d"
           }
          ],
          "histogram2dcontour": [
           {
            "colorbar": {
             "outlinewidth": 0,
             "ticks": ""
            },
            "colorscale": [
             [
              0,
              "#0d0887"
             ],
             [
              0.1111111111111111,
              "#46039f"
             ],
             [
              0.2222222222222222,
              "#7201a8"
             ],
             [
              0.3333333333333333,
              "#9c179e"
             ],
             [
              0.4444444444444444,
              "#bd3786"
             ],
             [
              0.5555555555555556,
              "#d8576b"
             ],
             [
              0.6666666666666666,
              "#ed7953"
             ],
             [
              0.7777777777777778,
              "#fb9f3a"
             ],
             [
              0.8888888888888888,
              "#fdca26"
             ],
             [
              1,
              "#f0f921"
             ]
            ],
            "type": "histogram2dcontour"
           }
          ],
          "mesh3d": [
           {
            "colorbar": {
             "outlinewidth": 0,
             "ticks": ""
            },
            "type": "mesh3d"
           }
          ],
          "parcoords": [
           {
            "line": {
             "colorbar": {
              "outlinewidth": 0,
              "ticks": ""
             }
            },
            "type": "parcoords"
           }
          ],
          "pie": [
           {
            "automargin": true,
            "type": "pie"
           }
          ],
          "scatter": [
           {
            "fillpattern": {
             "fillmode": "overlay",
             "size": 10,
             "solidity": 0.2
            },
            "type": "scatter"
           }
          ],
          "scatter3d": [
           {
            "line": {
             "colorbar": {
              "outlinewidth": 0,
              "ticks": ""
             }
            },
            "marker": {
             "colorbar": {
              "outlinewidth": 0,
              "ticks": ""
             }
            },
            "type": "scatter3d"
           }
          ],
          "scattercarpet": [
           {
            "marker": {
             "colorbar": {
              "outlinewidth": 0,
              "ticks": ""
             }
            },
            "type": "scattercarpet"
           }
          ],
          "scattergeo": [
           {
            "marker": {
             "colorbar": {
              "outlinewidth": 0,
              "ticks": ""
             }
            },
            "type": "scattergeo"
           }
          ],
          "scattergl": [
           {
            "marker": {
             "colorbar": {
              "outlinewidth": 0,
              "ticks": ""
             }
            },
            "type": "scattergl"
           }
          ],
          "scattermapbox": [
           {
            "marker": {
             "colorbar": {
              "outlinewidth": 0,
              "ticks": ""
             }
            },
            "type": "scattermapbox"
           }
          ],
          "scatterpolar": [
           {
            "marker": {
             "colorbar": {
              "outlinewidth": 0,
              "ticks": ""
             }
            },
            "type": "scatterpolar"
           }
          ],
          "scatterpolargl": [
           {
            "marker": {
             "colorbar": {
              "outlinewidth": 0,
              "ticks": ""
             }
            },
            "type": "scatterpolargl"
           }
          ],
          "scatterternary": [
           {
            "marker": {
             "colorbar": {
              "outlinewidth": 0,
              "ticks": ""
             }
            },
            "type": "scatterternary"
           }
          ],
          "surface": [
           {
            "colorbar": {
             "outlinewidth": 0,
             "ticks": ""
            },
            "colorscale": [
             [
              0,
              "#0d0887"
             ],
             [
              0.1111111111111111,
              "#46039f"
             ],
             [
              0.2222222222222222,
              "#7201a8"
             ],
             [
              0.3333333333333333,
              "#9c179e"
             ],
             [
              0.4444444444444444,
              "#bd3786"
             ],
             [
              0.5555555555555556,
              "#d8576b"
             ],
             [
              0.6666666666666666,
              "#ed7953"
             ],
             [
              0.7777777777777778,
              "#fb9f3a"
             ],
             [
              0.8888888888888888,
              "#fdca26"
             ],
             [
              1,
              "#f0f921"
             ]
            ],
            "type": "surface"
           }
          ],
          "table": [
           {
            "cells": {
             "fill": {
              "color": "#EBF0F8"
             },
             "line": {
              "color": "white"
             }
            },
            "header": {
             "fill": {
              "color": "#C8D4E3"
             },
             "line": {
              "color": "white"
             }
            },
            "type": "table"
           }
          ]
         },
         "layout": {
          "annotationdefaults": {
           "arrowcolor": "#2a3f5f",
           "arrowhead": 0,
           "arrowwidth": 1
          },
          "autotypenumbers": "strict",
          "coloraxis": {
           "colorbar": {
            "outlinewidth": 0,
            "ticks": ""
           }
          },
          "colorscale": {
           "diverging": [
            [
             0,
             "#8e0152"
            ],
            [
             0.1,
             "#c51b7d"
            ],
            [
             0.2,
             "#de77ae"
            ],
            [
             0.3,
             "#f1b6da"
            ],
            [
             0.4,
             "#fde0ef"
            ],
            [
             0.5,
             "#f7f7f7"
            ],
            [
             0.6,
             "#e6f5d0"
            ],
            [
             0.7,
             "#b8e186"
            ],
            [
             0.8,
             "#7fbc41"
            ],
            [
             0.9,
             "#4d9221"
            ],
            [
             1,
             "#276419"
            ]
           ],
           "sequential": [
            [
             0,
             "#0d0887"
            ],
            [
             0.1111111111111111,
             "#46039f"
            ],
            [
             0.2222222222222222,
             "#7201a8"
            ],
            [
             0.3333333333333333,
             "#9c179e"
            ],
            [
             0.4444444444444444,
             "#bd3786"
            ],
            [
             0.5555555555555556,
             "#d8576b"
            ],
            [
             0.6666666666666666,
             "#ed7953"
            ],
            [
             0.7777777777777778,
             "#fb9f3a"
            ],
            [
             0.8888888888888888,
             "#fdca26"
            ],
            [
             1,
             "#f0f921"
            ]
           ],
           "sequentialminus": [
            [
             0,
             "#0d0887"
            ],
            [
             0.1111111111111111,
             "#46039f"
            ],
            [
             0.2222222222222222,
             "#7201a8"
            ],
            [
             0.3333333333333333,
             "#9c179e"
            ],
            [
             0.4444444444444444,
             "#bd3786"
            ],
            [
             0.5555555555555556,
             "#d8576b"
            ],
            [
             0.6666666666666666,
             "#ed7953"
            ],
            [
             0.7777777777777778,
             "#fb9f3a"
            ],
            [
             0.8888888888888888,
             "#fdca26"
            ],
            [
             1,
             "#f0f921"
            ]
           ]
          },
          "colorway": [
           "#636efa",
           "#EF553B",
           "#00cc96",
           "#ab63fa",
           "#FFA15A",
           "#19d3f3",
           "#FF6692",
           "#B6E880",
           "#FF97FF",
           "#FECB52"
          ],
          "font": {
           "color": "#2a3f5f"
          },
          "geo": {
           "bgcolor": "white",
           "lakecolor": "white",
           "landcolor": "white",
           "showlakes": true,
           "showland": true,
           "subunitcolor": "#C8D4E3"
          },
          "hoverlabel": {
           "align": "left"
          },
          "hovermode": "closest",
          "mapbox": {
           "style": "light"
          },
          "paper_bgcolor": "white",
          "plot_bgcolor": "white",
          "polar": {
           "angularaxis": {
            "gridcolor": "#EBF0F8",
            "linecolor": "#EBF0F8",
            "ticks": ""
           },
           "bgcolor": "white",
           "radialaxis": {
            "gridcolor": "#EBF0F8",
            "linecolor": "#EBF0F8",
            "ticks": ""
           }
          },
          "scene": {
           "xaxis": {
            "backgroundcolor": "white",
            "gridcolor": "#DFE8F3",
            "gridwidth": 2,
            "linecolor": "#EBF0F8",
            "showbackground": true,
            "ticks": "",
            "zerolinecolor": "#EBF0F8"
           },
           "yaxis": {
            "backgroundcolor": "white",
            "gridcolor": "#DFE8F3",
            "gridwidth": 2,
            "linecolor": "#EBF0F8",
            "showbackground": true,
            "ticks": "",
            "zerolinecolor": "#EBF0F8"
           },
           "zaxis": {
            "backgroundcolor": "white",
            "gridcolor": "#DFE8F3",
            "gridwidth": 2,
            "linecolor": "#EBF0F8",
            "showbackground": true,
            "ticks": "",
            "zerolinecolor": "#EBF0F8"
           }
          },
          "shapedefaults": {
           "line": {
            "color": "#2a3f5f"
           }
          },
          "ternary": {
           "aaxis": {
            "gridcolor": "#DFE8F3",
            "linecolor": "#A2B1C6",
            "ticks": ""
           },
           "baxis": {
            "gridcolor": "#DFE8F3",
            "linecolor": "#A2B1C6",
            "ticks": ""
           },
           "bgcolor": "white",
           "caxis": {
            "gridcolor": "#DFE8F3",
            "linecolor": "#A2B1C6",
            "ticks": ""
           }
          },
          "title": {
           "x": 0.05
          },
          "xaxis": {
           "automargin": true,
           "gridcolor": "#EBF0F8",
           "linecolor": "#EBF0F8",
           "ticks": "",
           "title": {
            "standoff": 15
           },
           "zerolinecolor": "#EBF0F8",
           "zerolinewidth": 2
          },
          "yaxis": {
           "automargin": true,
           "gridcolor": "#EBF0F8",
           "linecolor": "#EBF0F8",
           "ticks": "",
           "title": {
            "standoff": 15
           },
           "zerolinecolor": "#EBF0F8",
           "zerolinewidth": 2
          }
         }
        },
        "title": {
         "text": "Variation of Threshold Value wrt value of 'k'"
        },
        "xaxis": {
         "title": {
          "text": "k (from 0 to 25)"
         }
        },
        "yaxis": {
         "title": {
          "text": "Mean + k * Std Dev"
         }
        }
       }
      }
     },
     "metadata": {},
     "output_type": "display_data"
    }
   ],
   "source": [
    "import plotly.graph_objects as go\n",
    "\n",
    "mean_loss = np.mean(test_loss)\n",
    "std_loss = np.std(test_loss)\n",
    "\n",
    "# Values of k from 0 to 25\n",
    "k_values = np.arange(0, 26)\n",
    "\n",
    "# Calculate the formula for each k\n",
    "y_values = [mean_loss + k * std_loss for k in k_values]\n",
    "\n",
    "fig = go.Figure()\n",
    "\n",
    "fig.add_trace(go.Scatter(\n",
    "    x=k_values,\n",
    "    y=y_values,\n",
    "    mode='lines+markers',\n",
    "    line=dict(color='blue'),\n",
    "    marker=dict(size=8)\n",
    "))\n",
    "\n",
    "# Set titles and labels\n",
    "fig.update_layout(\n",
    "    title=\"Variation of Threshold Value wrt value of 'k'\",\n",
    "    xaxis_title=\"k (from 0 to 25)\",\n",
    "    yaxis_title=\"Mean + k * Std Dev\",\n",
    "    template=\"plotly_white\"\n",
    ")\n",
    "\n",
    "# Show the plot\n",
    "fig.show()"
   ]
  },
  {
   "cell_type": "code",
   "execution_count": 29,
   "metadata": {},
   "outputs": [
    {
     "data": {
      "text/html": [
       "<div>\n",
       "<style scoped>\n",
       "    .dataframe tbody tr th:only-of-type {\n",
       "        vertical-align: middle;\n",
       "    }\n",
       "\n",
       "    .dataframe tbody tr th {\n",
       "        vertical-align: top;\n",
       "    }\n",
       "\n",
       "    .dataframe thead th {\n",
       "        text-align: right;\n",
       "    }\n",
       "</style>\n",
       "<table border=\"1\" class=\"dataframe\">\n",
       "  <thead>\n",
       "    <tr style=\"text-align: right;\">\n",
       "      <th></th>\n",
       "      <th>Test MAE</th>\n",
       "      <th>Threshold</th>\n",
       "      <th>Status</th>\n",
       "    </tr>\n",
       "    <tr>\n",
       "      <th>Date and time</th>\n",
       "      <th></th>\n",
       "      <th></th>\n",
       "      <th></th>\n",
       "    </tr>\n",
       "  </thead>\n",
       "  <tbody>\n",
       "    <tr>\n",
       "      <th>01-01-2021 00:00</th>\n",
       "      <td>0.053620</td>\n",
       "      <td>1.148272</td>\n",
       "      <td>False</td>\n",
       "    </tr>\n",
       "    <tr>\n",
       "      <th>01-01-2021 00:10</th>\n",
       "      <td>0.051120</td>\n",
       "      <td>1.148272</td>\n",
       "      <td>False</td>\n",
       "    </tr>\n",
       "    <tr>\n",
       "      <th>01-01-2021 00:20</th>\n",
       "      <td>0.060455</td>\n",
       "      <td>1.148272</td>\n",
       "      <td>False</td>\n",
       "    </tr>\n",
       "    <tr>\n",
       "      <th>01-01-2021 00:30</th>\n",
       "      <td>0.062962</td>\n",
       "      <td>1.148272</td>\n",
       "      <td>False</td>\n",
       "    </tr>\n",
       "    <tr>\n",
       "      <th>01-01-2021 00:40</th>\n",
       "      <td>0.055929</td>\n",
       "      <td>1.148272</td>\n",
       "      <td>False</td>\n",
       "    </tr>\n",
       "    <tr>\n",
       "      <th>...</th>\n",
       "      <td>...</td>\n",
       "      <td>...</td>\n",
       "      <td>...</td>\n",
       "    </tr>\n",
       "    <tr>\n",
       "      <th>16-06-2021 07:40</th>\n",
       "      <td>0.064136</td>\n",
       "      <td>1.148272</td>\n",
       "      <td>False</td>\n",
       "    </tr>\n",
       "    <tr>\n",
       "      <th>16-06-2021 07:50</th>\n",
       "      <td>0.061655</td>\n",
       "      <td>1.148272</td>\n",
       "      <td>False</td>\n",
       "    </tr>\n",
       "    <tr>\n",
       "      <th>16-06-2021 08:00</th>\n",
       "      <td>0.059255</td>\n",
       "      <td>1.148272</td>\n",
       "      <td>False</td>\n",
       "    </tr>\n",
       "    <tr>\n",
       "      <th>16-06-2021 08:10</th>\n",
       "      <td>0.058370</td>\n",
       "      <td>1.148272</td>\n",
       "      <td>False</td>\n",
       "    </tr>\n",
       "    <tr>\n",
       "      <th>16-06-2021 08:20</th>\n",
       "      <td>0.059781</td>\n",
       "      <td>1.148272</td>\n",
       "      <td>False</td>\n",
       "    </tr>\n",
       "  </tbody>\n",
       "</table>\n",
       "<p>142892 rows × 3 columns</p>\n",
       "</div>"
      ],
      "text/plain": [
       "                  Test MAE  Threshold  Status\n",
       "Date and time                                \n",
       "01-01-2021 00:00  0.053620   1.148272   False\n",
       "01-01-2021 00:10  0.051120   1.148272   False\n",
       "01-01-2021 00:20  0.060455   1.148272   False\n",
       "01-01-2021 00:30  0.062962   1.148272   False\n",
       "01-01-2021 00:40  0.055929   1.148272   False\n",
       "...                    ...        ...     ...\n",
       "16-06-2021 07:40  0.064136   1.148272   False\n",
       "16-06-2021 07:50  0.061655   1.148272   False\n",
       "16-06-2021 08:00  0.059255   1.148272   False\n",
       "16-06-2021 08:10  0.058370   1.148272   False\n",
       "16-06-2021 08:20  0.059781   1.148272   False\n",
       "\n",
       "[142892 rows x 3 columns]"
      ]
     },
     "execution_count": 29,
     "metadata": {},
     "output_type": "execute_result"
    }
   ],
   "source": [
    "anomaly=pd.DataFrame()\n",
    "anomaly.index = test_index\n",
    "anomaly['Test MAE']=test_loss\n",
    "#threshold\n",
    "anomaly['Threshold']=np.mean(test_loss)+21*np.std(test_loss)\n",
    "anomaly['Status']=anomaly['Test MAE']>anomaly['Threshold']\n",
    "anomaly"
   ]
  },
  {
   "cell_type": "code",
   "execution_count": 30,
   "metadata": {},
   "outputs": [
    {
     "data": {
      "image/png": "[encoded data removed]",
      "text/plain": [
       "<Figure size 1400x600 with 1 Axes>"
      ]
     },
     "metadata": {},
     "output_type": "display_data"
    }
   ],
   "source": [
    "anomaly[['Test MAE', 'Threshold']].plot(figsize=(14, 6))\n",
    "plt.show()"
   ]
  }
 ],
 "metadata": {
  "kernelspec": {
   "display_name": "Python 3",
   "language": "python",
   "name": "python3"
  },
  "language_info": {
   "codemirror_mode": {
    "name": "ipython",
    "version": 3
   },
   "file_extension": ".py",
   "mimetype": "text/x-python",
   "name": "python",
   "nbconvert_exporter": "python",
   "pygments_lexer": "ipython3",
   "version": "3.11.4"
  }
 },
 "nbformat": 4,
 "nbformat_minor": 2
}
